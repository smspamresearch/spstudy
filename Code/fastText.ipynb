{
  "nbformat": 4,
  "nbformat_minor": 0,
  "metadata": {
    "colab": {
      "provenance": []
    },
    "kernelspec": {
      "name": "python3",
      "display_name": "Python 3"
    },
    "language_info": {
      "name": "python"
    }
  },
  "cells": [
    {
      "cell_type": "code",
      "source": [
        "!pip install openpyxl"
      ],
      "metadata": {
        "id": "vUW181uOV7Gv"
      },
      "execution_count": null,
      "outputs": []
    },
    {
      "cell_type": "code",
      "source": [
        "!pip install xlrd"
      ],
      "metadata": {
        "id": "_7Am99HBXIrh"
      },
      "execution_count": null,
      "outputs": []
    },
    {
      "cell_type": "code",
      "source": [
        "!wget https://github.com/facebookresearch/fastText/archive/v0.9.2.zip"
      ],
      "metadata": {
        "id": "qZEfKa-RBXBe"
      },
      "execution_count": null,
      "outputs": []
    },
    {
      "cell_type": "code",
      "source": [
        "!unzip v0.9.2.zip"
      ],
      "metadata": {
        "id": "6rwagP96BbOP"
      },
      "execution_count": null,
      "outputs": []
    },
    {
      "cell_type": "code",
      "source": [
        "cd fastText-0.9.2"
      ],
      "metadata": {
        "id": "WSFsKn0HBdpv"
      },
      "execution_count": null,
      "outputs": []
    },
    {
      "cell_type": "code",
      "source": [
        "!make"
      ],
      "metadata": {
        "id": "hUG5uLpVBhQZ",
        "colab": {
          "base_uri": "https://localhost:8080/"
        },
        "outputId": "c54600e5-e7e0-481b-dc19-a32ff6121f98"
      },
      "execution_count": null,
      "outputs": [
        {
          "output_type": "stream",
          "name": "stdout",
          "text": [
            "c++ -pthread -std=c++11 -march=native -O3 -funroll-loops -DNDEBUG -c src/args.cc\n",
            "c++ -pthread -std=c++11 -march=native -O3 -funroll-loops -DNDEBUG -c src/autotune.cc\n",
            "c++ -pthread -std=c++11 -march=native -O3 -funroll-loops -DNDEBUG -c src/matrix.cc\n",
            "c++ -pthread -std=c++11 -march=native -O3 -funroll-loops -DNDEBUG -c src/dictionary.cc\n",
            "c++ -pthread -std=c++11 -march=native -O3 -funroll-loops -DNDEBUG -c src/loss.cc\n",
            "c++ -pthread -std=c++11 -march=native -O3 -funroll-loops -DNDEBUG -c src/productquantizer.cc\n",
            "c++ -pthread -std=c++11 -march=native -O3 -funroll-loops -DNDEBUG -c src/densematrix.cc\n",
            "c++ -pthread -std=c++11 -march=native -O3 -funroll-loops -DNDEBUG -c src/quantmatrix.cc\n",
            "c++ -pthread -std=c++11 -march=native -O3 -funroll-loops -DNDEBUG -c src/vector.cc\n",
            "c++ -pthread -std=c++11 -march=native -O3 -funroll-loops -DNDEBUG -c src/model.cc\n",
            "c++ -pthread -std=c++11 -march=native -O3 -funroll-loops -DNDEBUG -c src/utils.cc\n",
            "c++ -pthread -std=c++11 -march=native -O3 -funroll-loops -DNDEBUG -c src/meter.cc\n",
            "c++ -pthread -std=c++11 -march=native -O3 -funroll-loops -DNDEBUG -c src/fasttext.cc\n",
            "c++ -pthread -std=c++11 -march=native -O3 -funroll-loops -DNDEBUG args.o autotune.o matrix.o dictionary.o loss.o productquantizer.o densematrix.o quantmatrix.o vector.o model.o utils.o meter.o fasttext.o src/main.cc -o fasttext\n"
          ]
        }
      ]
    },
    {
      "cell_type": "code",
      "source": [
        "!./fasttext"
      ],
      "metadata": {
        "id": "9GhLhwDGBj6-",
        "colab": {
          "base_uri": "https://localhost:8080/"
        },
        "outputId": "8666515f-f8b7-49da-f2dd-d764877100b2"
      },
      "execution_count": null,
      "outputs": [
        {
          "output_type": "stream",
          "name": "stdout",
          "text": [
            "usage: fasttext <command> <args>\n",
            "\n",
            "The commands supported by fasttext are:\n",
            "\n",
            "  supervised              train a supervised classifier\n",
            "  quantize                quantize a model to reduce the memory usage\n",
            "  test                    evaluate a supervised classifier\n",
            "  test-label              print labels with precision and recall scores\n",
            "  predict                 predict most likely labels\n",
            "  predict-prob            predict most likely labels with probabilities\n",
            "  skipgram                train a skipgram model\n",
            "  cbow                    train a cbow model\n",
            "  print-word-vectors      print word vectors given a trained model\n",
            "  print-sentence-vectors  print sentence vectors given a trained model\n",
            "  print-ngrams            print ngrams given a trained model and word\n",
            "  nn                      query for nearest neighbors\n",
            "  analogies               query for analogies\n",
            "  dump                    dump arguments,dictionary,input/output vectors\n",
            "\n"
          ]
        }
      ]
    },
    {
      "cell_type": "code",
      "source": [
        "import pandas as pd\n",
        "import numpy as np\n",
        "from io import StringIO\n",
        "import csv\n",
        "from google.colab import drive\n",
        "drive.mount('/content/drive')"
      ],
      "metadata": {
        "colab": {
          "base_uri": "https://localhost:8080/"
        },
        "id": "oMNKxOWVAfyC",
        "outputId": "49d4355a-63a0-4f52-e681-964c5198fad5"
      },
      "execution_count": null,
      "outputs": [
        {
          "output_type": "stream",
          "name": "stdout",
          "text": [
            "Mounted at /content/drive\n"
          ]
        }
      ]
    },
    {
      "cell_type": "code",
      "metadata": {
        "id": "A-yEz3pkhrZe",
        "colab": {
          "base_uri": "https://localhost:8080/"
        },
        "outputId": "7105e152-41d6-43b0-d462-1b8d68c66b22"
      },
      "source": [
        "import pandas as pd\n",
        "import numpy as np\n",
        "from io import StringIO\n",
        "import csv\n",
        "from google.colab import drive\n",
        "drive.mount('/content/drive')\n",
        "\n",
        "# messages = pd.read_csv(\"/content/drive/My Drive/Colab Datasets/super_drift_fast.csv\", encoding='latin-1')\n",
        "messages = pd.read_csv(\"/content/drive/My Drive/Colab Datasets/super23_lbl.csv\", encoding='latin-1')\n",
        "# messages = pd.read_excel(\"/content/drive/My Drive/Colab Datasets/punny1.xlsx\")\n",
        "# messages = messages.drop(labels = [\"Unnamed: 2\", \"Unnamed: 3\", \"Unnamed: 4\"], axis = 1)\n",
        "# messages = pd.read_excel('test_punny.xlsx')\n",
        "messages.columns = [\"label\", \"message\"]\n",
        "print (messages.head())\n",
        "\n",
        "messages['label']=['__label__'+ s for s in messages['label']]\n",
        "messages['message']= messages['message'].replace('\\n',' ', regex=True).replace('\\t',' ', regex=True)\n",
        "messages.to_csv(r'super23.txt', index=False, sep=' ', header=False, quoting=csv.QUOTE_NONE, quotechar=\"\", escapechar=\" \")\n",
        "print (messages.head())"
      ],
      "execution_count": null,
      "outputs": [
        {
          "output_type": "stream",
          "name": "stdout",
          "text": [
            "Drive already mounted at /content/drive; to attempt to forcibly remount, call drive.mount(\"/content/drive\", force_remount=True).\n",
            "  label                                            message\n",
            "0  spam  YOU HAVE WON! As a valued Vodafone customer ou...\n",
            "1  spam  Guinness Record! World?s most pierced women! C...\n",
            "2  spam  U have a secret admirer. REVEAL who thinks U R...\n",
            "3  spam  U have a secret admirer who is looking 2 make ...\n",
            "4  spam  FREE for 1st week! No1 Nokia tone 4 ur mob eve...\n",
            "           label                                            message\n",
            "0  __label__spam  YOU HAVE WON! As a valued Vodafone customer ou...\n",
            "1  __label__spam  Guinness Record! World?s most pierced women! C...\n",
            "2  __label__spam  U have a secret admirer. REVEAL who thinks U R...\n",
            "3  __label__spam  U have a secret admirer who is looking 2 make ...\n",
            "4  __label__spam  FREE for 1st week! No1 Nokia tone 4 ur mob eve...\n"
          ]
        }
      ]
    },
    {
      "cell_type": "code",
      "metadata": {
        "id": "KKAcrqesifhy"
      },
      "source": [
        "cat \"super23.txt\" | sed -e \"s/\\([.\\!?,'/()]\\)/ \\1 /g\" | tr \"[:upper:]\" \"[:lower:]\" > \"super23_preprocessed.txt\""
      ],
      "execution_count": null,
      "outputs": []
    },
    {
      "cell_type": "code",
      "metadata": {
        "id": "Q7gZxiPUi53h"
      },
      "source": [
        "!head -n 52588 \"super23_preprocessed.txt\" > \"super23_train_evl.txt\""
      ],
      "execution_count": null,
      "outputs": []
    },
    {
      "cell_type": "code",
      "metadata": {
        "id": "EsYt6hjJjKz2"
      },
      "source": [
        "!tail -n 13148 \"super23_preprocessed.txt\" > \"super23_test_evl.txt\""
      ],
      "execution_count": null,
      "outputs": []
    },
    {
      "cell_type": "code",
      "metadata": {
        "colab": {
          "base_uri": "https://localhost:8080/"
        },
        "id": "TJgx4k_EjXA_",
        "outputId": "4bd31416-c4bd-4577-93d8-13227ab0f0bb"
      },
      "source": [
        "%%time\n",
        "!./fasttext supervised -input \"super23_train_evl.txt\" -output scam_detection_model5a -lr 1.0 -epoch 25\n",
        "# !./fasttext supervised -input \"super23_train.txt\" -output scam_detection_model5a -lr 1.0 -epoch 25 -wordNgrams 3"
      ],
      "execution_count": null,
      "outputs": [
        {
          "output_type": "stream",
          "name": "stdout",
          "text": [
            "\rRead 1M words\rRead 1M words\n",
            "Number of words:  54120\n",
            "Number of labels: 2\n",
            "Progress: 100.0% words/sec/thread:  397876 lr:  0.000000 avg.loss:  0.005370 ETA:   0h 0m 0s\n",
            "CPU times: user 141 ms, sys: 9.38 ms, total: 151 ms\n",
            "Wall time: 11.2 s\n"
          ]
        }
      ]
    },
    {
      "cell_type": "code",
      "source": [
        "!./fasttext test scam_detection_model5a.bin \"super23_test_evl.txt\""
      ],
      "metadata": {
        "colab": {
          "base_uri": "https://localhost:8080/"
        },
        "id": "7mVpkQdZ4geB",
        "outputId": "25681e31-89c5-4d9c-f82d-c96e1e078821"
      },
      "execution_count": null,
      "outputs": [
        {
          "output_type": "stream",
          "name": "stdout",
          "text": [
            "N\t13148\n",
            "P@1\t0.927\n",
            "R@1\t0.927\n"
          ]
        }
      ]
    },
    {
      "cell_type": "code",
      "metadata": {
        "id": "zWkWC46yjkIV"
      },
      "source": [
        "!./fasttext predict scam_detection_model5a.bin \"super23_test_evl.txt\" > \"/content/drive/My Drive/Colab Datasets/sp23e.txt\""
      ],
      "execution_count": null,
      "outputs": []
    },
    {
      "cell_type": "markdown",
      "source": [
        "# New Section"
      ],
      "metadata": {
        "id": "sofMJNtvIpve"
      }
    },
    {
      "cell_type": "code",
      "source": [
        "import pandas as pd\n",
        "messages = pd.read_csv(\"/content/drive/My Drive/Colab Datasets/output.csv\", encoding='latin-1')\n",
        "messages.columns = [\"act\", \"pred\"]\n",
        "print (messages.tail(3))"
      ],
      "metadata": {
        "colab": {
          "base_uri": "https://localhost:8080/"
        },
        "id": "zDit8Rtz8LKR",
        "outputId": "263bc941-5030-4bf8-ba9a-b30351571466"
      },
      "execution_count": null,
      "outputs": [
        {
          "output_type": "stream",
          "name": "stdout",
          "text": [
            "       act pred\n",
            "13145  ham  ham\n",
            "13146  ham  ham\n",
            "13147  ham  ham\n"
          ]
        }
      ]
    },
    {
      "cell_type": "code",
      "source": [
        "from sklearn import metrics\n",
        "# print(metrics.classification_report(messages[\"act\"], messages[\"pred\"], digits=4))\n",
        "print(metrics.confusion_matrix(messages[\"act\"], messages[\"pred\"]))\n",
        "# print(\"Precision: \", metrics.precision_score(messages[\"act\"], messages[\"pred\"]))\n",
        "# print(\"Recall: \", metrics.recall_score(messages[\"act\"], messages[\"pred\"]))\n",
        "# Printing the Overall Accuracy of the model\n",
        "print(\"Accuracy of the model : {0:0.3f}\".format(metrics.accuracy_score(messages[\"act\"], messages[\"pred\"])))"
      ],
      "metadata": {
        "colab": {
          "base_uri": "https://localhost:8080/"
        },
        "id": "uBfQK9uB8Nrs",
        "outputId": "5a35d069-efa2-4e30-b657-bd033d406f81"
      },
      "execution_count": null,
      "outputs": [
        {
          "output_type": "stream",
          "name": "stdout",
          "text": [
            "[[ 1884    34]\n",
            " [  930 10300]]\n",
            "Accuracy of the model : 0.927\n"
          ]
        }
      ]
    }
  ]
}