{
  "cells": [
    {
      "cell_type": "code",
      "execution_count": null,
      "metadata": {
        "id": "A8uapIoLDXeJ"
      },
      "outputs": [],
      "source": [
        "# !wget -c \"https://s3.amazonaws.com/dl4j-distribution/GoogleNews-vectors-negative300.bin.gz\"\n",
        "!wget -c \"https://figshare.com/ndownloader/files/10798046\""
      ]
    },
    {
      "cell_type": "code",
      "execution_count": null,
      "metadata": {
        "id": "CbGz4UkXDbhj"
      },
      "outputs": [],
      "source": [
        "!gzip -d GoogleNews-vectors-negative300.bin.gz"
      ]
    },
    {
      "cell_type": "code",
      "execution_count": null,
      "metadata": {
        "id": "TtVl7rj5c6f8"
      },
      "outputs": [],
      "source": [
        "!wget http://nlp.stanford.edu/data/glove.6B.zip"
      ]
    },
    {
      "cell_type": "code",
      "execution_count": null,
      "metadata": {
        "id": "FWa_BOqoc_Pv"
      },
      "outputs": [],
      "source": [
        "!unzip -q glove.6B.zip"
      ]
    },
    {
      "cell_type": "code",
      "execution_count": null,
      "metadata": {
        "id": "MvTUcMyuEhtS"
      },
      "outputs": [],
      "source": [
        "import nltk\n",
        "nltk.download('stopwords')"
      ]
    },
    {
      "cell_type": "code",
      "execution_count": null,
      "metadata": {
        "id": "6UUSah0f-wuk"
      },
      "outputs": [],
      "source": [
        "import numpy as np # linear algebra\n",
        "import pandas as pd # data processing, CSV file I/O (e.g. pd.read_csv)\n",
        "import os\n",
        "import nltk\n",
        "import gensim\n",
        "from gensim.test.utils import common_texts, get_tmpfile\n",
        "from gensim.models import Word2Vec\n",
        "from sklearn import metrics\n",
        "import warnings\n",
        "warnings.filterwarnings('ignore')\n",
        "\n",
        "# messages = pd.read_csv(\"con_test.csv\", encoding='latin-1')\n",
        "messages = pd.read_csv(\"super23.csv\", encoding='latin-1')\n",
        "# messages = pd.read_excel(\"punny.xlsx\")\n",
        "\n",
        "# messages = messages.drop(labels = [\"Unnamed: 2\", \"Unnamed: 3\"], axis = 1)\n",
        "messages.columns = [\"label\", \"message\"]\n",
        "messages['label'] = messages['label'].map({1:1,0:-1})\n",
        "print (messages.tail())"
      ]
    },
    {
      "cell_type": "code",
      "execution_count": null,
      "metadata": {
        "id": "vdVlOrP8ZYFb"
      },
      "outputs": [],
      "source": [
        "url = \"GoogleNews-vectors-negative300.bin\"\n",
        "embeddings = gensim.models.KeyedVectors.load_word2vec_format(url, binary=True)"
      ]
    },
    {
      "cell_type": "code",
      "execution_count": null,
      "metadata": {
        "id": "H-LbiIChY3_0"
      },
      "outputs": [],
      "source": [
        "def read_glove_vector(glove_vec):\n",
        "  with open(glove_vec, 'r', encoding='UTF-8') as f:\n",
        "    words = set()\n",
        "    word_to_vec_map = {}\n",
        "    for line in f:\n",
        "      w_line = line.split()\n",
        "      curr_word = w_line[0]\n",
        "      word_to_vec_map[curr_word] = np.array(w_line[1:], dtype=np.float64)\n",
        "\n",
        "  return word_to_vec_map\n",
        "embeddings = read_glove_vector('glove.6B.100d.txt') #glove.6B.50d.txt"
      ]
    },
    {
      "cell_type": "code",
      "execution_count": null,
      "metadata": {
        "id": "wVKXZNmJcOyE"
      },
      "outputs": [],
      "source": [
        "print (embeddings[\"win\"])"
      ]
    },
    {
      "cell_type": "code",
      "execution_count": null,
      "metadata": {
        "colab": {
          "base_uri": "https://localhost:8080/"
        },
        "id": "fGghekDsZSWM",
        "outputId": "24c15613-04c7-41f9-cf7e-b606bbfb43e7"
      },
      "outputs": [
        {
          "output_type": "stream",
          "name": "stdout",
          "text": [
            "(65736, 100)\n"
          ]
        }
      ],
      "source": [
        "docs_vectors = pd.DataFrame() # creating empty final dataframe\n",
        "stopwords = nltk.corpus.stopwords.words('english') # removing stop words\n",
        "# for doc in messages['message'].str.lower().str.replace('[^a-z ]', ''): # looping through each document and cleaning it\n",
        "for doc in messages['message'].str.lower():\n",
        "    temp = pd.DataFrame()  # creating a temporary dataframe(store value for 1st doc & for 2nd doc remove the details of 1st & proced through 2nd and so on..)\n",
        "    for word in doc.split(' '): # looping through each word of a single document and spliting through space\n",
        "        if word not in stopwords: # if word is not present in stopwords then (try)\n",
        "            try:\n",
        "                word_vec = embeddings[word] # if word is present in embeddings(goole provides weights associate with words(300)) then proceed\n",
        "                temp = temp.append(pd.Series(word_vec), ignore_index = True) # if word is present then append it to temporary dataframe\n",
        "            except:\n",
        "                pass\n",
        "                # print(\"error\")\n",
        "    doc_vector = temp.mean() # take the average of each column(w0, w1, w2,........w300)\n",
        "    docs_vectors = docs_vectors.append(doc_vector, ignore_index = True) # append each document value to the final dataframe\n",
        "print (docs_vectors.shape)\n",
        "\n",
        "docs_vectors['label'] = messages['label']"
      ]
    },
    {
      "cell_type": "code",
      "execution_count": null,
      "metadata": {
        "id": "Cu3n02mV4hfj"
      },
      "outputs": [],
      "source": [
        "docs_vectors = docs_vectors.dropna()\n",
        "# docs_vectors.to_csv('WV_OC.csv', index=False)"
      ]
    },
    {
      "cell_type": "code",
      "execution_count": null,
      "metadata": {
        "id": "9jkLtUlr8Maf"
      },
      "outputs": [],
      "source": [
        "docs_vectors_train = docs_vectors.loc[0:52588, :]\n",
        "# docs_vectors_train = docs_vectors.loc[0:5400, :]"
      ]
    },
    {
      "cell_type": "code",
      "execution_count": null,
      "metadata": {
        "id": "pDPIXZd4pZSR"
      },
      "outputs": [],
      "source": [
        "docs_vectors_train  = docs_vectors.dropna()"
      ]
    },
    {
      "cell_type": "code",
      "execution_count": null,
      "metadata": {
        "id": "IREAAEOjyHQv"
      },
      "outputs": [],
      "source": [
        "# docs_vectors_train = pd.read_csv(\"WV_OC.csv\", encoding='latin-1')\n",
        "# print (docs_vectors_train.tail())"
      ]
    },
    {
      "cell_type": "code",
      "execution_count": null,
      "metadata": {
        "colab": {
          "base_uri": "https://localhost:8080/",
          "height": 92
        },
        "id": "B7qrjZqI3eF0",
        "outputId": "89b90385-4ae4-4b3a-f94b-4d186d5b4f94"
      },
      "outputs": [
        {
          "output_type": "stream",
          "name": "stdout",
          "text": [
            "(64485, 100) (64485,) (1, 100) (1,)\n"
          ]
        },
        {
          "output_type": "execute_result",
          "data": {
            "text/plain": [
              "OneClassSVM(gamma=0.1, nu=0.2)"
            ],
            "text/html": [
              "<style>#sk-container-id-2 {color: black;background-color: white;}#sk-container-id-2 pre{padding: 0;}#sk-container-id-2 div.sk-toggleable {background-color: white;}#sk-container-id-2 label.sk-toggleable__label {cursor: pointer;display: block;width: 100%;margin-bottom: 0;padding: 0.3em;box-sizing: border-box;text-align: center;}#sk-container-id-2 label.sk-toggleable__label-arrow:before {content: \"▸\";float: left;margin-right: 0.25em;color: #696969;}#sk-container-id-2 label.sk-toggleable__label-arrow:hover:before {color: black;}#sk-container-id-2 div.sk-estimator:hover label.sk-toggleable__label-arrow:before {color: black;}#sk-container-id-2 div.sk-toggleable__content {max-height: 0;max-width: 0;overflow: hidden;text-align: left;background-color: #f0f8ff;}#sk-container-id-2 div.sk-toggleable__content pre {margin: 0.2em;color: black;border-radius: 0.25em;background-color: #f0f8ff;}#sk-container-id-2 input.sk-toggleable__control:checked~div.sk-toggleable__content {max-height: 200px;max-width: 100%;overflow: auto;}#sk-container-id-2 input.sk-toggleable__control:checked~label.sk-toggleable__label-arrow:before {content: \"▾\";}#sk-container-id-2 div.sk-estimator input.sk-toggleable__control:checked~label.sk-toggleable__label {background-color: #d4ebff;}#sk-container-id-2 div.sk-label input.sk-toggleable__control:checked~label.sk-toggleable__label {background-color: #d4ebff;}#sk-container-id-2 input.sk-hidden--visually {border: 0;clip: rect(1px 1px 1px 1px);clip: rect(1px, 1px, 1px, 1px);height: 1px;margin: -1px;overflow: hidden;padding: 0;position: absolute;width: 1px;}#sk-container-id-2 div.sk-estimator {font-family: monospace;background-color: #f0f8ff;border: 1px dotted black;border-radius: 0.25em;box-sizing: border-box;margin-bottom: 0.5em;}#sk-container-id-2 div.sk-estimator:hover {background-color: #d4ebff;}#sk-container-id-2 div.sk-parallel-item::after {content: \"\";width: 100%;border-bottom: 1px solid gray;flex-grow: 1;}#sk-container-id-2 div.sk-label:hover label.sk-toggleable__label {background-color: #d4ebff;}#sk-container-id-2 div.sk-serial::before {content: \"\";position: absolute;border-left: 1px solid gray;box-sizing: border-box;top: 0;bottom: 0;left: 50%;z-index: 0;}#sk-container-id-2 div.sk-serial {display: flex;flex-direction: column;align-items: center;background-color: white;padding-right: 0.2em;padding-left: 0.2em;position: relative;}#sk-container-id-2 div.sk-item {position: relative;z-index: 1;}#sk-container-id-2 div.sk-parallel {display: flex;align-items: stretch;justify-content: center;background-color: white;position: relative;}#sk-container-id-2 div.sk-item::before, #sk-container-id-2 div.sk-parallel-item::before {content: \"\";position: absolute;border-left: 1px solid gray;box-sizing: border-box;top: 0;bottom: 0;left: 50%;z-index: -1;}#sk-container-id-2 div.sk-parallel-item {display: flex;flex-direction: column;z-index: 1;position: relative;background-color: white;}#sk-container-id-2 div.sk-parallel-item:first-child::after {align-self: flex-end;width: 50%;}#sk-container-id-2 div.sk-parallel-item:last-child::after {align-self: flex-start;width: 50%;}#sk-container-id-2 div.sk-parallel-item:only-child::after {width: 0;}#sk-container-id-2 div.sk-dashed-wrapped {border: 1px dashed gray;margin: 0 0.4em 0.5em 0.4em;box-sizing: border-box;padding-bottom: 0.4em;background-color: white;}#sk-container-id-2 div.sk-label label {font-family: monospace;font-weight: bold;display: inline-block;line-height: 1.2em;}#sk-container-id-2 div.sk-label-container {text-align: center;}#sk-container-id-2 div.sk-container {/* jupyter's `normalize.less` sets `[hidden] { display: none; }` but bootstrap.min.css set `[hidden] { display: none !important; }` so we also need the `!important` here to be able to override the default hidden behavior on the sphinx rendered scikit-learn.org. See: https://github.com/scikit-learn/scikit-learn/issues/21755 */display: inline-block !important;position: relative;}#sk-container-id-2 div.sk-text-repr-fallback {display: none;}</style><div id=\"sk-container-id-2\" class=\"sk-top-container\"><div class=\"sk-text-repr-fallback\"><pre>OneClassSVM(gamma=0.1, nu=0.2)</pre><b>In a Jupyter environment, please rerun this cell to show the HTML representation or trust the notebook. <br />On GitHub, the HTML representation is unable to render, please try loading this page with nbviewer.org.</b></div><div class=\"sk-container\" hidden><div class=\"sk-item\"><div class=\"sk-estimator sk-toggleable\"><input class=\"sk-toggleable__control sk-hidden--visually\" id=\"sk-estimator-id-2\" type=\"checkbox\" checked><label for=\"sk-estimator-id-2\" class=\"sk-toggleable__label sk-toggleable__label-arrow\">OneClassSVM</label><div class=\"sk-toggleable__content\"><pre>OneClassSVM(gamma=0.1, nu=0.2)</pre></div></div></div></div></div>"
            ]
          },
          "metadata": {},
          "execution_count": 24
        }
      ],
      "source": [
        "from sklearn.model_selection import train_test_split\n",
        "from sklearn.ensemble import AdaBoostClassifier\n",
        "from sklearn.svm import OneClassSVM\n",
        "\n",
        "train_x, test_x, train_y, test_y = train_test_split(docs_vectors_train.drop('label', axis = 1),\n",
        "                                                   docs_vectors_train['label'],\n",
        "                                                   test_size = 1,\n",
        "                                                   random_state = 1)\n",
        "print (train_x.shape, train_y.shape, test_x.shape, test_y.shape)\n",
        "\n",
        "# model = AdaBoostClassifier(n_estimators=800, random_state = 1)\n",
        "\n",
        "model = OneClassSVM(nu=0.2, kernel=\"rbf\", gamma=0.1)\n",
        "model.fit(train_x, train_y)"
      ]
    },
    {
      "cell_type": "code",
      "execution_count": null,
      "metadata": {
        "id": "M7cYCL3L_dpk"
      },
      "outputs": [],
      "source": [
        "# docs_vectors_test = pd.read_csv(\"test101.csv\", encoding='latin-1')\n",
        "# print (docs_vectors_test.tail())"
      ]
    },
    {
      "cell_type": "code",
      "execution_count": null,
      "metadata": {
        "id": "oPVqZr9xsSmm"
      },
      "outputs": [],
      "source": [
        "docs_vectors_test = docs_vectors.loc[52589:65736, :] # 55461:55685 55686:55910 55911:56135 56136:56360 56361:56585 56586:56810\n",
        "# docs_vectors_test = docs_vectors_test.dropna()\n",
        "labels_test = docs_vectors_test.iloc[: , -1]\n",
        "docs_vectors_test = docs_vectors_test.iloc[:,:-1]\n",
        "# print (\"test vects\", docs_vectors_test)\n",
        "# print (\"test labels\", labels_test)\n",
        "# labels_test.to_csv('test2.csv', index=False)"
      ]
    },
    {
      "cell_type": "code",
      "source": [
        "docs_vectors_test = docs_vectors_test.dropna()"
      ],
      "metadata": {
        "id": "X8oLWSKcysan"
      },
      "execution_count": null,
      "outputs": []
    },
    {
      "cell_type": "code",
      "execution_count": null,
      "metadata": {
        "id": "YlIwYtv7jPnj"
      },
      "outputs": [],
      "source": [
        "test_pred = model.predict(docs_vectors_test)\n",
        "from sklearn.metrics import accuracy_score, precision_score, recall_score, confusion_matrix\n",
        "print(confusion_matrix(labels_test, test_pred))\n",
        "# print(metrics.classification_report(labels_test, test_pred, digits=4))\n",
        "print('Precision: ', precision_score(labels_test, test_pred))\n",
        "print('Recall: ', recall_score(labels_test, test_pred))\n",
        "print('Accuracy: ', accuracy_score(labels_test, test_pred))"
      ]
    }
  ],
  "metadata": {
    "colab": {
      "provenance": []
    },
    "gpuClass": "standard",
    "kernelspec": {
      "display_name": "Python 3",
      "name": "python3"
    },
    "language_info": {
      "name": "python"
    }
  },
  "nbformat": 4,
  "nbformat_minor": 0
}