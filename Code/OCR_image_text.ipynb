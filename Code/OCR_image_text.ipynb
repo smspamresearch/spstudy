{
  "nbformat": 4,
  "nbformat_minor": 0,
  "metadata": {
    "colab": {
      "provenance": []
    },
    "kernelspec": {
      "name": "python3",
      "display_name": "Python 3"
    },
    "language_info": {
      "name": "python"
    }
  },
  "cells": [
    {
      "cell_type": "code",
      "source": [
        "!sudo apt-get install tesseract-ocr"
      ],
      "metadata": {
        "id": "GP4ijk8FY5Zg"
      },
      "execution_count": null,
      "outputs": []
    },
    {
      "cell_type": "code",
      "source": [
        "!pip install pytesseract"
      ],
      "metadata": {
        "id": "gIW6UD3NeU1L"
      },
      "execution_count": null,
      "outputs": []
    },
    {
      "cell_type": "code",
      "source": [
        "!unzip spam22.zip"
      ],
      "metadata": {
        "id": "GYHgf0jAXzMp"
      },
      "execution_count": null,
      "outputs": []
    },
    {
      "cell_type": "code",
      "execution_count": null,
      "metadata": {
        "id": "FcLe-BR3Xd3u"
      },
      "outputs": [],
      "source": [
        "import csv\n",
        "import pytesseract\n",
        "from PIL import Image\n",
        "import os\n",
        "\n",
        "# Set the path to the folder containing the images\n",
        "folder_path = './spam22/'\n",
        "\n",
        "# Initialize the list to hold the text of each image\n",
        "text_list = []\n",
        "\n",
        "# Loop through each image in the folder\n",
        "for filename in os.listdir(folder_path):\n",
        "    if filename.endswith('.jpg') or filename.endswith('.png'):\n",
        "        # Open the image and extract the text using pytesseract\n",
        "        image_path = os.path.join(folder_path, filename)\n",
        "        image = Image.open(image_path)\n",
        "        text = pytesseract.image_to_string(image)\n",
        "        text_list.append(text)\n",
        "\n",
        "# Write the text of each image in a single line in a CSV file\n",
        "with open('spam22.csv', 'w', newline='') as csvfile:\n",
        "    writer = csv.writer(csvfile)\n",
        "    for text in text_list:\n",
        "        writer.writerow([text])"
      ]
    }
  ]
}