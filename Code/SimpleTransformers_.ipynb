{
  "cells": [
    {
      "cell_type": "code",
      "execution_count": null,
      "id": "ec0872af",
      "metadata": {
        "id": "ec0872af"
      },
      "outputs": [],
      "source": [
        "import shutil\n",
        "shutil.rmtree('outputs')"
      ]
    },
    {
      "cell_type": "code",
      "execution_count": null,
      "id": "ec7c314f",
      "metadata": {
        "scrolled": true,
        "id": "ec7c314f"
      },
      "outputs": [],
      "source": [
        "!pip install openpyxl"
      ]
    },
    {
      "cell_type": "code",
      "execution_count": null,
      "id": "21f3d313",
      "metadata": {
        "id": "21f3d313"
      },
      "outputs": [],
      "source": [
        "import pandas as pd\n",
        "import time\n",
        "# start = time.time()\n",
        "train_df1 = pd.read_csv(\"super23_train.csv\", encoding='latin-1')\n",
        "# train_df1 = pd.read_csv(\"scam_train.csv\", encoding='latin-1')\n",
        "# train_df1 = train_df1.replace({'ham':0, 'spam':1})\n",
        "print(train_df1.tail(5))\n",
        "# stop = time.time()\n",
        "# print(f\"Training time: {stop - start}s\")"
      ]
    },
    {
      "cell_type": "code",
      "execution_count": null,
      "id": "0df82cc5",
      "metadata": {
        "id": "0df82cc5"
      },
      "outputs": [],
      "source": [
        "eval_df1 = pd.read_csv(\"super23_test.csv\", encoding='latin-1')\n",
        "# eval_df1 = pd.read_csv(\"scam_test.csv\", encoding='latin-1')\n",
        "# eval_df1 = pd.read_excel('test_punny.xlsx')\n",
        "# eval_df1 = eval_df1.replace({'ham':0, 'spam':1})\n",
        "print (eval_df1.head(5))"
      ]
    },
    {
      "cell_type": "code",
      "execution_count": null,
      "id": "492c020c",
      "metadata": {
        "id": "492c020c"
      },
      "outputs": [],
      "source": [
        "from simpletransformers.classification import ClassificationModel, ClassificationArgs\n",
        "\n",
        "# Optional model configuration\n",
        "model_args = ClassificationArgs(num_train_epochs=10, use_early_stopping = True, overwrite_output_dir = True, save_steps = -1, save_model_every_epoch= False) \n",
        "\n",
        "# Create a ClassificationModel\n",
        "start = time.time()\n",
        "# Create a TransformerModel\n",
        "model = ClassificationModel('roberta', 'roberta-base', args=model_args, use_cuda= True)\n",
        "# model = ClassificationModel('distilbert', 'distilbert-base-uncased', args=model_args, use_cuda= True) \n",
        "# model = ClassificationModel('bert', 'bert-base-uncased', args=model_args, use_cuda= True) # , use_cuda= False\n",
        "# model = ClassificationModel('xlmroberta', 'xlm-roberta-base', args=model_args, use_cuda= True) \n",
        "# Train the model\n",
        "model.train_model(train_df1)\n",
        "stop = time.time()\n",
        "print(f\"Training time: {stop - start}s\")"
      ]
    },
    {
      "cell_type": "code",
      "execution_count": null,
      "id": "35d35a19",
      "metadata": {
        "id": "35d35a19"
      },
      "outputs": [],
      "source": [
        "start = time.time()\n",
        "# Evaluate the model\n",
        "result, model_outputs, wrong_predictions = model.eval_model(eval_df1)\n",
        "stop = time.time()\n",
        "print(f\"Classification time: {stop - start}s\")\n",
        "print(result)"
      ]
    },
    {
      "cell_type": "code",
      "execution_count": null,
      "id": "ef9685c6",
      "metadata": {
        "id": "ef9685c6"
      },
      "outputs": [],
      "source": [
        "https://simpletransformers.ai/docs/tips-and-tricks/"
      ]
    }
  ],
  "metadata": {
    "kernelspec": {
      "display_name": "Python 3 (ipykernel)",
      "language": "python",
      "name": "python3"
    },
    "language_info": {
      "codemirror_mode": {
        "name": "ipython",
        "version": 3
      },
      "file_extension": ".py",
      "mimetype": "text/x-python",
      "name": "python",
      "nbconvert_exporter": "python",
      "pygments_lexer": "ipython3",
      "version": "3.9.12"
    },
    "colab": {
      "provenance": []
    }
  },
  "nbformat": 4,
  "nbformat_minor": 5
}