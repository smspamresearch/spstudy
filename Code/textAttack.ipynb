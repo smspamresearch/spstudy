{
  "cells": [
    {
      "cell_type": "code",
      "execution_count": null,
      "metadata": {
        "id": "_rparwCHj1Xo"
      },
      "outputs": [],
      "source": [
        "!pip install textattack"
      ]
    },
    {
      "cell_type": "code",
      "execution_count": null,
      "metadata": {
        "id": "MvBxTw7LllkZ"
      },
      "outputs": [],
      "source": [
        "!pip install tensorflow-text"
      ]
    },
    {
      "cell_type": "code",
      "execution_count": null,
      "metadata": {
        "id": "gBaV5BRZkqCW"
      },
      "outputs": [],
      "source": [
        "!textattack --help"
      ]
    },
    {
      "cell_type": "code",
      "execution_count": null,
      "metadata": {
        "colab": {
          "base_uri": "https://localhost:8080/"
        },
        "id": "maZRO7aim63e",
        "outputId": "d99b2683-27c5-4064-e6a3-54d57c8abce3"
      },
      "outputs": [
        {
          "output_type": "stream",
          "name": "stdout",
          "text": [
            "usage: [python -m] texattack <command> [<args>] augment [-h]\n",
            "                                                        [--input-csv INPUT_CSV]\n",
            "                                                        [--output-csv OUTPUT_CSV]\n",
            "                                                        [--input-column INPUT_COLUMN]\n",
            "                                                        [--recipe {wordnet,embedding,charswap,eda,checklist,clare,back_trans}]\n",
            "                                                        [--pct-words-to-swap PCT_WORDS_TO_SWAP]\n",
            "                                                        [--transformations-per-example TRANSFORMATIONS_PER_EXAMPLE]\n",
            "                                                        [--random-seed RANDOM_SEED]\n",
            "                                                        [--exclude-original]\n",
            "                                                        [--overwrite]\n",
            "                                                        [--interactive]\n",
            "                                                        [--high_yield]\n",
            "                                                        [--fast_augment]\n",
            "                                                        [--enable_advanced_metrics]\n",
            "\n",
            "optional arguments:\n",
            "  -h, --help            show this help message and exit\n",
            "  --input-csv INPUT_CSV\n",
            "                        Path of input CSV file to augment. (default: None)\n",
            "  --output-csv OUTPUT_CSV\n",
            "                        Path of CSV file to output augmented data. (default:\n",
            "                        None)\n",
            "  --input-column INPUT_COLUMN, --i INPUT_COLUMN\n",
            "                        CSV input column to be augmented (default: None)\n",
            "  --recipe {wordnet,embedding,charswap,eda,checklist,clare,back_trans}, -r {wordnet,embedding,charswap,eda,checklist,clare,back_trans}\n",
            "                        Name of augmentation recipe (default: embedding)\n",
            "  --pct-words-to-swap PCT_WORDS_TO_SWAP, --p PCT_WORDS_TO_SWAP\n",
            "                        Percentage of words to modify when generating each\n",
            "                        augmented example. (default: 0.1)\n",
            "  --transformations-per-example TRANSFORMATIONS_PER_EXAMPLE, --t TRANSFORMATIONS_PER_EXAMPLE\n",
            "                        number of augmentations to return for each input\n",
            "                        (default: 2)\n",
            "  --random-seed RANDOM_SEED\n",
            "                        random seed to set (default: 42)\n",
            "  --exclude-original    exclude original example from augmented CSV (default:\n",
            "                        False)\n",
            "  --overwrite           overwrite output file, if it exists (default: False)\n",
            "  --interactive         Whether to run attacks interactively. (default: False)\n",
            "  --high_yield          run attacks with high yield. (default: False)\n",
            "  --fast_augment        faster augmentation but may use only a few\n",
            "                        transformations. (default: False)\n",
            "  --enable_advanced_metrics\n",
            "                        return perplexity and USE score (default: False)\n"
          ]
        }
      ],
      "source": [
        "!textattack augment --help"
      ]
    },
    {
      "cell_type": "markdown",
      "source": [
        "Now input a two column CSV (doesnt work with a single column) CSV"
      ],
      "metadata": {
        "id": "Txu6e5fodXpr"
      }
    },
    {
      "cell_type": "markdown",
      "source": [
        "For the unicode decode error, change the line in codecs.py\n",
        "https://flutterq.com/unicodedecodeerror-utf8-codec-cant-decode-byte-0xe9-in-position-10-invalid-continuation-byte/"
      ],
      "metadata": {
        "id": "bVyjSRgvDzkl"
      }
    },
    {
      "cell_type": "code",
      "execution_count": null,
      "metadata": {
        "colab": {
          "base_uri": "https://localhost:8080/"
        },
        "id": "dqpEKyhy3BFr",
        "outputId": "861c5976-f24c-4790-ea61-c0914c416b6a"
      },
      "outputs": [
        {
          "output_type": "stream",
          "name": "stdout",
          "text": [
            "\u001b[34;1mtextattack\u001b[0m: Read 7 rows from test.csv. Found columns {'labels', 'text'}.\n",
            "Augmenting rows: 100% 7/7 [00:07<00:00,  1.06s/it]\n",
            "\u001b[34;1mtextattack\u001b[0m: Wrote 7 augmentations to output_1.csv in 7.412103176116943s.\n"
          ]
        }
      ],
      "source": [
        "!textattack augment --input-csv test.csv --output-csv output_1.csv  --input-column text --recipe embedding --pct-words-to-swap .5 --transformations-per-example 1 --exclude-original"
      ]
    },
    {
      "cell_type": "code",
      "source": [
        "!textattack augment --input-csv test.csv --output-csv eda.csv  --input-column text --recipe eda --pct-words-to-swap .5 --transformations-per-example 1"
      ],
      "metadata": {
        "id": "SSDT5prRTS9r"
      },
      "execution_count": null,
      "outputs": []
    },
    {
      "cell_type": "code",
      "source": [
        "from textattack.augmentation import WordNetAugmenter, EmbeddingAugmenter, EasyDataAugmenter, CharSwapAugmenter"
      ],
      "metadata": {
        "id": "RMHGg_3s2TTQ"
      },
      "execution_count": null,
      "outputs": []
    },
    {
      "cell_type": "markdown",
      "source": [
        ""
      ],
      "metadata": {
        "id": "v_v3GHU2213y"
      }
    },
    {
      "cell_type": "code",
      "source": [
        "# https://textattack.readthedocs.io/en/latest/apidoc/textattack.augmentation.html\n",
        "# https://textattack.readthedocs.io/en/latest/3recipes/augmenter_recipes.html#augmenter-recipes\n",
        "\n",
        "import pandas as pd\n",
        "md = pd.read_csv(\"test.csv\", encoding='latin-1')\n",
        "md.columns =[\"class\", \"text\"]\n",
        "print(md.head(5))\n",
        "print(md.describe())"
      ],
      "metadata": {
        "id": "YqyWFvZX3cAk"
      },
      "execution_count": null,
      "outputs": []
    },
    {
      "cell_type": "code",
      "source": [
        "text = \"Leadership requires two things: a vision of the world that does not yet exist and the ability to communicate it.\"\n",
        "aug = EasyDataAugmenter(transformations_per_example=1)\n",
        "# aug = aug(transformation=transformation, transformations_per_example=1)\n",
        "# aug.augment(text)\n",
        "for index, row in md.iterrows():\n",
        "    # print(aug.augment(text))\n",
        "    print(aug.augment(row['text']))    "
      ],
      "metadata": {
        "id": "glopQUdd2Z5j"
      },
      "execution_count": null,
      "outputs": []
    },
    {
      "cell_type": "code",
      "source": [
        "# import the CheckListAugmenter\n",
        "from textattack.augmentation import CharSwapAugmenter\n",
        "# Alter default values if desired\n",
        "augmenter = CharSwapAugmenter(pct_words_to_swap=0.2, transformations_per_example=1)\n",
        "s = \"I'd love to go to Japan but the tickets are 500 dollars\"\n",
        "# Augment\n",
        "augmenter.augment(s)"
      ],
      "metadata": {
        "colab": {
          "base_uri": "https://localhost:8080/"
        },
        "id": "9gAkKs1UDmtI",
        "outputId": "6285bbe1-88a8-4ee3-88ec-61cef8a51e7a"
      },
      "execution_count": null,
      "outputs": [
        {
          "output_type": "execute_result",
          "data": {
            "text/plain": [
              "[\"I'd lKove to go to Japan but the tickets are 500 dollas\"]"
            ]
          },
          "metadata": {},
          "execution_count": 58
        }
      ]
    }
  ],
  "metadata": {
    "colab": {
      "name": "textAttack.ipynb",
      "provenance": [],
      "collapsed_sections": []
    },
    "kernelspec": {
      "display_name": "Python 3",
      "name": "python3"
    },
    "language_info": {
      "name": "python"
    }
  },
  "nbformat": 4,
  "nbformat_minor": 0
}