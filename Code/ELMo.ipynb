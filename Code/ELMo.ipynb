{
  "cells": [
    {
      "cell_type": "code",
      "execution_count": null,
      "metadata": {
        "id": "1j4-LuP3lXFb"
      },
      "outputs": [],
      "source": [
        "!pip install tensorflow-gpu==1.15.4"
      ]
    },
    {
      "cell_type": "code",
      "execution_count": null,
      "metadata": {
        "id": "MA3Qn_vQpFlQ"
      },
      "outputs": [],
      "source": [
        "import tensorflow as tf\n",
        "import tensorflow_hub as hub\n",
        "print(tf. __version__) \n",
        "embed = hub.Module(\"https://tfhub.dev/google/elmo/2\")\n",
        "print(len(tf.config.experimental.list_physical_devices('GPU')))"
      ]
    },
    {
      "cell_type": "code",
      "execution_count": null,
      "metadata": {
        "id": "qg4ZTpZpoxdf"
      },
      "outputs": [],
      "source": [
        "import numpy as np # linear algebra\n",
        "import pandas as pd # data processing, CSV file I/O (e.g. pd.read_csv)\n",
        "import nltk\n",
        "import os"
      ]
    },
    {
      "cell_type": "code",
      "execution_count": null,
      "metadata": {
        "id": "qs-0RHZPoyjP"
      },
      "outputs": [],
      "source": [
        "import pandas as pd\n",
        "import numpy as np\n",
        "import spacy\n",
        "from tqdm import tqdm\n",
        "import re\n",
        "import time\n",
        "import pickle\n",
        "import warnings\n",
        "warnings.filterwarnings(\"ignore\")\n",
        "from google.colab import drive\n",
        "drive.mount('/content/drive')\n",
        "data = pd.read_csv(\"/content/drive/My Drive/Colab Datasets/super_combine.csv\", encoding='latin-1')\n",
        "\n",
        "# data = pd.read_csv(\"super_combine.csv\", encoding='latin-1')\n",
        "# data = pd.read_excel('punny2.xlsx')\n",
        "data.columns =[\"text\", \"category\"]\n",
        "print(data.head(5))\n",
        "# print(data.describe())"
      ]
    },
    {
      "cell_type": "code",
      "execution_count": null,
      "metadata": {
        "id": "yMKU_Q4eo5_Q"
      },
      "outputs": [],
      "source": [
        "from sklearn.preprocessing import LabelEncoder\n",
        "df3 = pd.DataFrame()\n",
        "df3[\"text\"] = data[\"text\"]\n",
        "df3[\"label\"] = LabelEncoder().fit_transform(data[\"category\"])"
      ]
    },
    {
      "cell_type": "code",
      "execution_count": null,
      "metadata": {
        "id": "JEyBa1w9o95c"
      },
      "outputs": [],
      "source": [
        "nltk.download('stopwords')\n",
        "\n",
        "from nltk.corpus import stopwords\n",
        "stop = stopwords.words('english')\n",
        "df3['text'] = df3['text'].apply(lambda x: \" \".join(x for x in x.split() if x not in stop))\n",
        "df3['text'].tail()"
      ]
    },
    {
      "cell_type": "code",
      "execution_count": null,
      "metadata": {
        "id": "hvWizOJe9goh"
      },
      "outputs": [],
      "source": [
        "!pip uninstall keras"
      ]
    },
    {
      "cell_type": "code",
      "execution_count": null,
      "metadata": {
        "id": "u8XKjckOASlF"
      },
      "outputs": [],
      "source": [
        "!pip install keras==2.3.0"
      ]
    },
    {
      "cell_type": "code",
      "execution_count": null,
      "metadata": {
        "colab": {
          "base_uri": "https://localhost:8080/"
        },
        "id": "m9oJK-9HOfFg",
        "outputId": "a04ea64a-e555-4d40-c4fb-c752725782da"
      },
      "outputs": [
        {
          "output_type": "stream",
          "name": "stdout",
          "text": [
            "\u001b[33mWARNING: Skipping python3 as it is not installed.\u001b[0m\n"
          ]
        }
      ],
      "source": [
        "!pip uninstall python3"
      ]
    },
    {
      "cell_type": "code",
      "execution_count": null,
      "metadata": {
        "colab": {
          "base_uri": "https://localhost:8080/"
        },
        "id": "hWNv7QCfpLW3",
        "outputId": "0ba0a273-67d8-4210-ba91-b8c3314b078f"
      },
      "outputs": [
        {
          "output_type": "stream",
          "name": "stdout",
          "text": [
            "42627\n",
            "Best luck.\n"
          ]
        },
        {
          "output_type": "stream",
          "name": "stderr",
          "text": [
            "Using TensorFlow backend.\n"
          ]
        }
      ],
      "source": [
        "from sklearn import preprocessing\n",
        "import keras\n",
        "y = list(df3['label'])\n",
        "x = list(df3['text'])\n",
        "\n",
        "en = preprocessing.LabelEncoder()\n",
        "en.fit(y)\n",
        "\n",
        "from keras.utils import np_utils\n",
        "def encode(le_enc, labels):\n",
        "    enc = le_enc.transform(labels)\n",
        "    return keras.utils.np_utils.to_categorical(enc)\n",
        "\n",
        "def decode(en, one_hot):\n",
        "    dec = np.argmax(one_hot, axis=1)\n",
        "    return en.inverse_transform(dec)\n",
        "\n",
        "x_enc = x\n",
        "y_enc = encode(en, y)\n",
        "\n",
        "x_train = x_enc[:52588]\n",
        "y_train = y_enc[:52588]\n",
        "print(len(x_train))\n",
        "print(x_train[30459])"
      ]
    },
    {
      "cell_type": "code",
      "execution_count": null,
      "metadata": {
        "id": "5ovJyYjhfPCQ"
      },
      "outputs": [],
      "source": [
        "from sklearn.model_selection import train_test_split\n",
        "x_train1, x_test, y_train1, y_test = train_test_split(np.asarray(x_enc), np.asarray(y_enc), test_size=1, random_state=88)"
      ]
    },
    {
      "cell_type": "code",
      "execution_count": null,
      "metadata": {
        "id": "EIhx3A_zeMHn"
      },
      "outputs": [],
      "source": [
        "pip install 'h5py==2.10.0' --force-reinstall"
      ]
    },
    {
      "cell_type": "code",
      "execution_count": null,
      "metadata": {
        "id": "OqI2R3azdKH_"
      },
      "outputs": [],
      "source": [
        "from keras.layers import Input, Lambda, Dense\n",
        "from keras.models import Model\n",
        "import keras.backend as K\n",
        "\n",
        "def ELMoEmbedding(x):\n",
        "    return embed(tf.squeeze(tf.cast(x, tf.string)), signature=\"default\", as_dict=True)[\"default\"]\n",
        "\n",
        "input_text = Input(shape=(1,), dtype=tf.string)\n",
        "embedding = Lambda(ELMoEmbedding, output_shape=(1024, ))(input_text)\n",
        "dense = Dense(256, activation='relu')(embedding)\n",
        "pred = Dense(2, activation='softmax')(dense)\n",
        "model = Model(inputs=[input_text], outputs=pred)\n",
        "model.compile(loss='binary_crossentropy', optimizer='adam', metrics=['accuracy'])\n",
        "\n",
        "with tf.Session() as session:\n",
        "    K.set_session(session)\n",
        "    session.run(tf.global_variables_initializer())  \n",
        "    session.run(tf.tables_initializer())\n",
        "    history = model.fit(np.asarray(x_train), np.asarray(y_train), epochs=7, batch_size=16)\n",
        "    model.save_weights('./elmo-model.h5')\n",
        "    # data = pd.read_csv(\"/content/drive/My Drive/colab_ds/ds_super_fast.csv\", encoding='latin-1')"
      ]
    },
    {
      "cell_type": "code",
      "execution_count": null,
      "metadata": {
        "id": "LqYcZyEpo5SL"
      },
      "outputs": [],
      "source": [
        "x_test = x_enc[52589:65736] #30460:30684 30685:30909 55911:56135 31810:32034 31135:31359 56361:56585 56586:56810\n",
        "y_test = y_enc[52589:65736]\n",
        "print(x_test)\n",
        "# print(x_test[224])"
      ]
    },
    {
      "cell_type": "code",
      "execution_count": null,
      "metadata": {
        "id": "LbTif5zGpRzW"
      },
      "outputs": [],
      "source": [
        "with tf.Session() as session:\n",
        "    K.set_session(session)\n",
        "    session.run(tf.global_variables_initializer())\n",
        "    session.run(tf.tables_initializer())\n",
        "    model.load_weights('./elmo-model.h5')\n",
        "    predicts = model.predict(np.asarray(x_test), batch_size=16)\n",
        "\n",
        "y_test = decode(en, y_test)\n",
        "y_preds = decode(en, predicts)"
      ]
    },
    {
      "cell_type": "code",
      "execution_count": null,
      "metadata": {
        "id": "EgoVnZ8nRHx1"
      },
      "outputs": [],
      "source": [
        "print(y_test)\n",
        "print (y_preds)\n",
        "# Calculate accuracy from the above two values\n",
        "from sklearn.metrics import accuracy_score\n",
        "print(\"Accuracy: \", accuracy_score(y_test, y_preds))"
      ]
    },
    {
      "cell_type": "code",
      "source": [
        "with tf.Session() as session:\n",
        "    K.set_session(session)\n",
        "    session.run(tf.global_variables_initializer())\n",
        "    session.run(tf.tables_initializer())\n",
        "    model.load_weights('./elmo-model.h5')\n",
        "    pred_lbl = (model.predict(np.asarray(x_test)) > 0.5).astype(\"int32\") #decode(en, x_test)\n",
        "    pd.DataFrame(pred_lbl).to_csv('output2.csv', index=False)"
      ],
      "metadata": {
        "id": "ScT-R7fTPATS"
      },
      "execution_count": null,
      "outputs": []
    },
    {
      "cell_type": "code",
      "source": [
        "import pandas as pd\n",
        "messages = pd.read_csv(\"output2b.csv\", encoding='latin-1')\n",
        "messages.columns = [\"labels\"]\n",
        "print (messages.tail(3))"
      ],
      "metadata": {
        "id": "cRor_ObjPPfl"
      },
      "execution_count": null,
      "outputs": []
    },
    {
      "cell_type": "code",
      "source": [
        "from sklearn import metrics\n",
        "print(metrics.classification_report(y_test, messages[\"labels\"]))\n",
        "print(metrics.confusion_matrix(y_test, messages[\"labels\"]))\n",
        "\n",
        "# Printing the Overall Accuracy of the model\n",
        "print(\"Accuracy of the model : {0:0.3f}\".format(metrics.accuracy_score(y_test, messages[\"labels\"])))"
      ],
      "metadata": {
        "id": "TmcJRCZePQqm"
      },
      "execution_count": null,
      "outputs": []
    }
  ],
  "metadata": {
    "accelerator": "GPU",
    "colab": {
      "provenance": []
    },
    "kernelspec": {
      "display_name": "Python 3",
      "name": "python3"
    },
    "gpuClass": "standard"
  },
  "nbformat": 4,
  "nbformat_minor": 0
}